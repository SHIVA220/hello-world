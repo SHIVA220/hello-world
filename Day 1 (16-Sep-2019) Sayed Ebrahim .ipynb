{
 "cells": [
  {
   "cell_type": "markdown",
   "metadata": {},
   "source": [
    "# pyton programming and markdown\n",
    "## pyton programming and markdown\n",
    "### pyton programming and markdown\n",
    "#### pyton programming and markdown\n",
    "##### pyton programming and markdown"
   ]
  },
  {
   "cell_type": "markdown",
   "metadata": {},
   "source": [
    "### python programming \n",
    "- point 1\n",
    "    - point 11\n",
    "- point 2\n",
    "    - point 22\n",
    "- point 3 \n",
    "    - point 33\n"
   ]
  },
  {
   "cell_type": "markdown",
   "metadata": {},
   "source": [
    "* **point** \n",
    "* ***POINT***\n"
   ]
  },
  {
   "cell_type": "markdown",
   "metadata": {},
   "source": [
    "<img src='image.jpg'/>"
   ]
  },
  {
   "cell_type": "code",
   "execution_count": 4,
   "metadata": {},
   "outputs": [
    {
     "name": "stdout",
     "output_type": "stream",
     "text": [
      "hellow gitam\n"
     ]
    }
   ],
   "source": [
    "print (\"hellow gitam\")"
   ]
  },
  {
   "cell_type": "code",
   "execution_count": 8,
   "metadata": {},
   "outputs": [
    {
     "name": "stdout",
     "output_type": "stream",
     "text": [
      "hello gitam ||| vizag\n"
     ]
    }
   ],
   "source": [
    "print ('hello gitam','||| ' , end = '')\n",
    "print ('vizag')"
   ]
  },
  {
   "cell_type": "code",
   "execution_count": 9,
   "metadata": {},
   "outputs": [
    {
     "name": "stdout",
     "output_type": "stream",
     "text": [
      "hellow world\n",
      "hellow siva\n"
     ]
    }
   ],
   "source": [
    "print ('hellow world')\n",
    "print ('hellow siva')"
   ]
  },
  {
   "cell_type": "code",
   "execution_count": 10,
   "metadata": {},
   "outputs": [
    {
     "name": "stdout",
     "output_type": "stream",
     "text": [
      "hellow gitam ||| vizag\n"
     ]
    }
   ],
   "source": [
    "print ('hellow gitam','||| ', end ='')\n",
    "print ('vizag')"
   ]
  },
  {
   "cell_type": "markdown",
   "metadata": {},
   "source": [
    "### data tyoe\n",
    "- INT\n",
    "- STR\n",
    "- FLO"
   ]
  },
  {
   "cell_type": "code",
   "execution_count": 13,
   "metadata": {},
   "outputs": [
    {
     "name": "stdout",
     "output_type": "stream",
     "text": [
      "100\n",
      "python programming\n",
      "python programming\n",
      "a\n",
      "2.8\n",
      "<class 'int'>\n",
      "<class 'str'>\n",
      "<class 'str'>\n",
      "<class 'str'>\n",
      "<class 'float'>\n"
     ]
    }
   ],
   "source": [
    "a= 100\n",
    "s= 'python programming'\n",
    "s1= 'python programming'\n",
    "s2= 'a'\n",
    "s3= (2.8)\n",
    "print (a)\n",
    "print (s)\n",
    "print (s1)\n",
    "print (s2)\n",
    "print (s3)\n",
    "print (type (a))\n",
    "print (type (s))\n",
    "print (type (s1))\n",
    "print (type (s2))\n",
    "print (type (s3))"
   ]
  },
  {
   "cell_type": "markdown",
   "metadata": {},
   "source": [
    "### data type conversion \n",
    "- int ()\n",
    "- float ()\n",
    "- str ()"
   ]
  },
  {
   "cell_type": "code",
   "execution_count": 16,
   "metadata": {},
   "outputs": [
    {
     "name": "stdout",
     "output_type": "stream",
     "text": [
      "100<class 'int'>\n",
      "100<class 'str'>\n"
     ]
    }
   ],
   "source": [
    "a= 100\n",
    "print (a, end ='')\n",
    "print (type(a))\n",
    "s1= str(a)\n",
    "print (s1, end ='')\n",
    "print (type (s1))"
   ]
  },
  {
   "cell_type": "code",
   "execution_count": 51,
   "metadata": {},
   "outputs": [
    {
     "name": "stdout",
     "output_type": "stream",
     "text": [
      "100.123<class 'str'>\n",
      "100.123<class 'float'>\n",
      "100<class 'int'>\n"
     ]
    }
   ],
   "source": [
    "s1= '100.123'\n",
    "print (s1, end = '')\n",
    "print (type (s1))\n",
    "a1=float (s1)\n",
    "print (a1, end ='')\n",
    "print (type(a1))\n",
    "a2=int(a1)\n",
    "print (a2, end ='')\n",
    "print (type (a2))"
   ]
  },
  {
   "cell_type": "code",
   "execution_count": 21,
   "metadata": {},
   "outputs": [
    {
     "name": "stdout",
     "output_type": "stream",
     "text": [
      "4\n"
     ]
    }
   ],
   "source": [
    "a=1234\n",
    "print (len (str(a)))"
   ]
  },
  {
   "cell_type": "code",
   "execution_count": 27,
   "metadata": {},
   "outputs": [
    {
     "ename": "SyntaxError",
     "evalue": "invalid syntax (<ipython-input-27-9630fa116b60>, line 2)",
     "output_type": "error",
     "traceback": [
      "\u001b[1;36m  File \u001b[1;32m\"<ipython-input-27-9630fa116b60>\"\u001b[1;36m, line \u001b[1;32m2\u001b[0m\n\u001b[1;33m    print (s1(type (s1)))\u001b[0m\n\u001b[1;37m        ^\u001b[0m\n\u001b[1;31mSyntaxError\u001b[0m\u001b[1;31m:\u001b[0m invalid syntax\n"
     ]
    }
   ],
   "source": [
    "s1= int(input('enter your number')\n",
    "print (s1(type (s1)))\n"
   ]
  },
  {
   "cell_type": "code",
   "execution_count": 26,
   "metadata": {},
   "outputs": [
    {
     "name": "stdout",
     "output_type": "stream",
     "text": [
      "Enter your name 222\n",
      "222 <class 'int'>\n"
     ]
    }
   ],
   "source": [
    "a1= int(input ('Enter your name '))\n",
    "print (a1,type (a1))"
   ]
  },
  {
   "cell_type": "code",
   "execution_count": 29,
   "metadata": {},
   "outputs": [
    {
     "name": "stdout",
     "output_type": "stream",
     "text": [
      "enter a decimal number 66.8\n",
      "66.8 <class 'float'>\n"
     ]
    }
   ],
   "source": [
    "s1= float (input ('enter a decimal number '))\n",
    "print (s1, type (s1))"
   ]
  },
  {
   "cell_type": "markdown",
   "metadata": {},
   "source": [
    "### Operatotrs\n",
    "- +\n",
    "- -\n",
    "- *\n",
    "- /\n",
    "- %\n",
    "- **\n",
    "- //"
   ]
  },
  {
   "cell_type": "code",
   "execution_count": 30,
   "metadata": {},
   "outputs": [
    {
     "name": "stdout",
     "output_type": "stream",
     "text": [
      "3.3333333333333335\n",
      "34\n",
      "12\n",
      "7\n",
      "1\n",
      "144\n",
      "10\n"
     ]
    }
   ],
   "source": [
    "print (20/6)\n",
    "print (22+12)\n",
    "print (4*3)\n",
    "print (10-3)\n",
    "print (10%3)\n",
    "print (12**2)\n",
    "print (20//2)"
   ]
  },
  {
   "cell_type": "markdown",
   "metadata": {},
   "source": [
    "### local operator\n",
    "- and \n",
    "- or \n",
    "- not"
   ]
  },
  {
   "cell_type": "code",
   "execution_count": 32,
   "metadata": {},
   "outputs": [
    {
     "name": "stdout",
     "output_type": "stream",
     "text": [
      "True <class 'bool'>\n",
      "True <class 'bool'>\n"
     ]
    }
   ],
   "source": [
    "a= 10\n",
    "b= (a>9) and (a>=10)\n",
    "print (b, type (b))\n",
    "b= (a>9) or (a>10)\n",
    "print (b, type (b))"
   ]
  },
  {
   "cell_type": "markdown",
   "metadata": {},
   "source": [
    "### control flow statements \n",
    "- Conditional statements \n",
    "    - If-else\n",
    "- Looping statements\n",
    "    - While \n",
    "    - For"
   ]
  },
  {
   "cell_type": "code",
   "execution_count": 45,
   "metadata": {},
   "outputs": [
    {
     "name": "stdout",
     "output_type": "stream",
     "text": [
      "22\n",
      "positive number\n"
     ]
    }
   ],
   "source": [
    "a2= int (input (''))\n",
    "if a2==0:\n",
    "    print ('ziro')\n",
    "elif a2>0:\n",
    "    print ('positive number')\n",
    "elif a2<0:\n",
    "    print ('negative number')"
   ]
  },
  {
   "cell_type": "code",
   "execution_count": 48,
   "metadata": {},
   "outputs": [
    {
     "name": "stdout",
     "output_type": "stream",
     "text": [
      "22\n",
      "the number is even\n"
     ]
    }
   ],
   "source": [
    "a1= int(input (''))\n",
    "if a1%2==0:\n",
    "    print ('the number is even')\n",
    "else :\n",
    "    print ('the number is odd')"
   ]
  },
  {
   "cell_type": "code",
   "execution_count": null,
   "metadata": {},
   "outputs": [],
   "source": [
    "### control flow statements"
   ]
  },
  {
   "cell_type": "code",
   "execution_count": null,
   "metadata": {},
   "outputs": [],
   "source": []
  },
  {
   "cell_type": "code",
   "execution_count": null,
   "metadata": {},
   "outputs": [],
   "source": []
  }
 ],
 "metadata": {
  "kernelspec": {
   "display_name": "Python 3",
   "language": "python",
   "name": "python3"
  },
  "language_info": {
   "codemirror_mode": {
    "name": "ipython",
    "version": 3
   },
   "file_extension": ".py",
   "mimetype": "text/x-python",
   "name": "python",
   "nbconvert_exporter": "python",
   "pygments_lexer": "ipython3",
   "version": "3.7.3"
  }
 },
 "nbformat": 4,
 "nbformat_minor": 2
}
