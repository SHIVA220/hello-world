{
 "cells": [
  {
   "cell_type": "code",
   "execution_count": 1,
   "metadata": {},
   "outputs": [],
   "source": [
    "import seaborn as sns\n",
    "import matplotlib.pyplot as plt\n",
    "import pandas as pd\n",
    "import numpy as np\n",
    "import os\n"
   ]
  },
  {
   "cell_type": "code",
   "execution_count": 2,
   "metadata": {},
   "outputs": [],
   "source": [
    "os.chdir('C:/Users/cse319/Desktop/sagun')\n",
    "match = pd.read_csv('match.csv')"
   ]
  },
  {
   "cell_type": "markdown",
   "metadata": {},
   "source": [
    "# IPL Data"
   ]
  },
  {
   "cell_type": "markdown",
   "metadata": {},
   "source": [
    "### 1. To group the number of matches based on a year. "
   ]
  },
  {
   "cell_type": "code",
   "execution_count": 7,
   "metadata": {},
   "outputs": [
    {
     "name": "stdout",
     "output_type": "stream",
     "text": [
      "col_0        count\n",
      "Season_Year       \n",
      "2008            58\n",
      "2009            57\n",
      "2010            60\n",
      "2011            73\n",
      "2012            74\n",
      "2013            76\n",
      "2014            60\n",
      "2015            59\n",
      "2016            60\n",
      "2017            60\n"
     ]
    }
   ],
   "source": [
    "matches_in_year = pd.crosstab(index = match['Season_Year'], columns = 'count')\n",
    "print(matches_in_year)\n"
   ]
  },
  {
   "cell_type": "markdown",
   "metadata": {},
   "source": [
    "### 2.  Plot a bar graph  no. of matches won by each team in the year  2011."
   ]
  },
  {
   "cell_type": "code",
   "execution_count": 11,
   "metadata": {},
   "outputs": [
    {
     "data": {
      "image/png": "[encoded data removed]",
      "text/plain": [
       "<Figure size 432x288 with 1 Axes>"
      ]
     },
     "metadata": {
      "needs_background": "light"
     },
     "output_type": "display_data"
    }
   ],
   "source": [
    "rows_2011 = match[match.Season_Year == 2011]\n",
    "sns.countplot(y = rows_2011['match_winner'])\n",
    "\n",
    "plt.xlabel('Winning Frequency')\n",
    "plt.ylabel('Teams')\n",
    "plt.title('Win data for the year 2011')\n",
    "plt.show()"
   ]
  },
  {
   "cell_type": "markdown",
   "metadata": {},
   "source": [
    "### 3.  Print  ManOfMatch count of each player in  Hyderabad stadium."
   ]
  },
  {
   "cell_type": "code",
   "execution_count": 6,
   "metadata": {},
   "outputs": [
    {
     "name": "stdout",
     "output_type": "stream",
     "text": [
      "col_0              count\n",
      "ManOfMach               \n",
      "A Mishra               2\n",
      "AB Dinda               1\n",
      "AT Rayudu              1\n",
      "B Kumar                1\n",
      "CH Morris              1\n",
      "DA Warner              6\n",
      "DJ Bravo               1\n",
      "DJG Sammy              1\n",
      "DW Steyn               3\n",
      "G Gambhir              1\n",
      "GH Vihari              2\n",
      "I Sharma               1\n",
      "MJ McClenaghan         1\n",
      "MR Marsh               1\n",
      "Mandeep Singh          1\n",
      "Mustafizur Rahman      1\n",
      "PA Patel               1\n",
      "PC Valthaty            1\n",
      "R Vinay Kumar          1\n",
      "SC Ganguly             1\n",
      "SE Marsh               1\n",
      "SK Raina               2\n",
      "SK Trivedi             1\n",
      "SL Malinga             1\n",
      "UT Yadav               1\n",
      "V Kohli                1\n",
      "V Sehwag               2\n",
      "WP Saha                1\n",
      "YK Pathan              2\n"
     ]
    }
   ],
   "source": [
    "hyderabad = match[match.City_Name == 'Hyderabad']\n",
    "motm = pd.crosstab(index = hyderabad['ManOfMach'], columns = 'count', margins = False)\n",
    "print(motm)"
   ]
  },
  {
   "cell_type": "markdown",
   "metadata": {},
   "source": [
    "# Apple Store Dataframe."
   ]
  },
  {
   "cell_type": "markdown",
   "metadata": {},
   "source": [
    "### 1. Calculate the average rating of Gaming and Non-Gaming apps."
   ]
  },
  {
   "cell_type": "code",
   "execution_count": 12,
   "metadata": {},
   "outputs": [],
   "source": [
    "import seaborn as sns\n",
    "import matplotlib.pyplot as plt\n",
    "import pandas as pd\n",
    "import numpy as np\n",
    "import os\n",
    "\n",
    "os.chdir('C:/Users/cse319/Desktop/sagun')\n",
    "apple = pd.read_csv('apple.csv')"
   ]
  },
  {
   "cell_type": "code",
   "execution_count": 13,
   "metadata": {},
   "outputs": [
    {
     "name": "stdout",
     "output_type": "stream",
     "text": [
      "3.69\n",
      "3.34\n"
     ]
    }
   ],
   "source": [
    "gaming = apple[apple.prime_genre == 'Games']\n",
    "non_gaming = apple[apple.prime_genre != 'Games']\n",
    "\n",
    "mean_gaming = gaming['user_rating'].mean()\n",
    "print(round(mean_gaming,2))\n",
    "\n",
    "mean_non_gaming = non_gaming['user_rating'].mean()\n",
    "print(round(mean_non_gaming,2))"
   ]
  },
  {
   "cell_type": "markdown",
   "metadata": {},
   "source": [
    "### 2. Draw Pie plot based on labels as  below Price category and values as count of each category apps  labels.\n",
    "\n",
    "- Price =0  - Free apps\n",
    "- Price <20 - Affordable apps\n",
    "- Price<50 - Expensive apps\n",
    "- Price >50 - Very expensive\n",
    " "
   ]
  },
  {
   "cell_type": "code",
   "execution_count": 28,
   "metadata": {},
   "outputs": [
    {
     "data": {
      "image/png": "[encoded data removed]",
      "text/plain": [
       "<Figure size 648x360 with 1 Axes>"
      ]
     },
     "metadata": {},
     "output_type": "display_data"
    }
   ],
   "source": [
    "\n",
    "free = apple[apple.price == 0]\n",
    "affordable = apple[(apple.price > 0) & (apple.price<=20)]\n",
    "expensive = apple[(apple.price > 20) & (apple.price <= 50)]\n",
    "verExpensive = apple[apple.price > 50]\n",
    "\n",
    "values = [free['id'].count(), affordable['id'].count(), expensive['id'].count(), verExpensive['id'].count() ]\n",
    "\n",
    "arr = np.array(values)\n",
    "per = (100/sum(values)) * arr\n",
    "per = per.round(2)\n",
    "labels = [('Free', str(per[0]) + '%'), ('Affordable', str(per[1]) + '%'), ('Expensive', str(per[2]) + '%'), ('Very Expensive', str(per[3]) + '%')]\n",
    "#labels = [{'Free': per[0]}, {'Affordable': per[1]}, {'Expensive': per[2]}, {'Very Expensive': per[3]}]\n",
    "\n",
    "plt.figure(figsize = (9,5))\n",
    "plt.pie(x = values, shadow = False ,startangle = 0, explode = (0.1,0.1,0.2,0.2))\n",
    "plt.legend(labels)\n",
    "plt.title('Categories of Prices of apps')\n",
    "plt.show()\n",
    "\n"
   ]
  },
  {
   "cell_type": "code",
   "execution_count": null,
   "metadata": {},
   "outputs": [],
   "source": []
  }
 ],
 "metadata": {
  "kernelspec": {
   "display_name": "Python 3",
   "language": "python",
   "name": "python3"
  },
  "language_info": {
   "codemirror_mode": {
    "name": "ipython",
    "version": 3
   },
   "file_extension": ".py",
   "mimetype": "text/x-python",
   "name": "python",
   "nbconvert_exporter": "python",
   "pygments_lexer": "ipython3",
   "version": "3.7.3"
  }
 },
 "nbformat": 4,
 "nbformat_minor": 2
}
